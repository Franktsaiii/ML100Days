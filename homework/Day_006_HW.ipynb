{
 "cells": [
  {
   "cell_type": "code",
   "execution_count": 1,
   "metadata": {
    "id": "jbkK8wprdbdY"
   },
   "outputs": [],
   "source": [
    "import numpy as np"
   ]
  },
  {
   "cell_type": "markdown",
   "metadata": {
    "id": "YWb4mnd4fqAG"
   },
   "source": [
    "作業目標<br>\n",
    "讀取存取陣列資料<br>\n",
    "作業重點<br>\n",
    "多陣列存一起需要存成npz，讀取須注意npz中有多個陣列"
   ]
  },
  {
   "cell_type": "markdown",
   "metadata": {
    "id": "UXV4vW6IfsW6"
   },
   "source": [
    "題目:<br>\n",
    "1. 將下兩列array存成npz檔<br>\n",
    "array1 = np.array(range(30))<br>\n",
    "array2 = np.array([2,3,5])<br>\n",
    "2. 讀取剛剛的npz檔，加入下列array一起存成新的npz檔\n"
   ]
  },
  {
   "cell_type": "code",
   "execution_count": 28,
   "metadata": {
    "id": "1mZQSUx_fry7"
   },
   "outputs": [],
   "source": [
    "#. 將下兩列array存成npz檔\n",
    "array1 = np.array(range(30))\n",
    "array2 = np.array([2,3,5])\n",
    "with open('hw.npz', 'wb') as f:\n",
    "    np.savez(f,array1,array2)"
   ]
  },
  {
   "cell_type": "code",
   "execution_count": 46,
   "metadata": {
    "id": "Ie1TGcssiIDN"
   },
   "outputs": [
    {
     "name": "stdout",
     "output_type": "stream",
     "text": [
      "[ 0  1  2  3  4  5  6  7  8  9 10 11 12 13 14 15 16 17 18 19 20 21 22 23\n",
      " 24 25 26 27 28 29]\n",
      "[2 3 5]\n"
     ]
    }
   ],
   "source": [
    "#2. 讀取剛剛的npz檔，加入下列array一起存成新的npz檔\n",
    "npzfile = np.load('hw.npz')\n",
    "print(npzfile['arr_0'])\n",
    "print(npzfile['arr_1'])"
   ]
  },
  {
   "cell_type": "code",
   "execution_count": 48,
   "metadata": {},
   "outputs": [
    {
     "name": "stdout",
     "output_type": "stream",
     "text": [
      "[ 0  1  2  3  4  5  6  7  8  9 10 11 12 13 14 15 16 17 18 19 20 21 22 23\n",
      " 24 25 26 27 28 29]\n",
      "[2 3 5]\n",
      "[0 1 2 3 4 5 6 7 8 9]\n",
      "[1 2 3]\n",
      "[0.5788873  0.69082947 0.04922545 0.86517602 0.29889969 0.55285575\n",
      " 0.69389689 0.49183867 0.8308363  0.06454569]\n"
     ]
    }
   ],
   "source": [
    "#讀取並加入multi_array.npz\n",
    "npzmulti = np.load('multi_array.npz')\n",
    "npzmulti.files\n",
    "with open('hw.npz', 'wb') as f:\n",
    "    np.savez(f,array1,array2,npzmulti['array1'],npzmulti['array2'],npzmulti['array3'])\n",
    "#試讀取一次\n",
    "array = np.load('hw.npz')\n",
    "print(array['arr_0'])\n",
    "print(array['arr_1'])\n",
    "print(array['arr_2'])\n",
    "print(array['arr_3'])\n",
    "print(array['arr_4'])"
   ]
  },
  {
   "cell_type": "code",
   "execution_count": 49,
   "metadata": {},
   "outputs": [],
   "source": [
    "#讀取並加入one_array.npy\n",
    "npyone = np.load('one_array.npy')\n",
    "#讀取並加入names.txt\n",
    "txtfile = np.genfromtxt(\"names.txt\", delimiter=\",\", names=True)\n",
    "#讀取並加入test.csv\n",
    "csvfile = np.genfromtxt(\"test.csv\", delimiter=\",\")\n",
    "with open('hw.npz', 'wb') as f:\n",
    "    np.savez(f,array1,array2,npzmulti['array1'],npzmulti['array2'],npzmulti['array3'],npyone,txtfile,csvfile)"
   ]
  },
  {
   "cell_type": "code",
   "execution_count": 51,
   "metadata": {},
   "outputs": [],
   "source": [
    "#讀取並加入test.gz\n",
    "gzfile = np.genfromtxt(\"test.gz\", delimiter=\",\")\n",
    "#讀取並加入test.npy\n",
    "npytest = np.load('test.npy')\n",
    "#讀取並加入test.out\n",
    "outfile = np.loadtxt('test.out', delimiter=',', dtype='f4')\n",
    "#讀取並加入transform.txt\n",
    "txtfile1 = np.genfromtxt(\"transform.txt\", delimiter=',', dtype=\"i8, i8, U3, U3\")\n",
    "with open('hw.npz', 'wb') as f:\n",
    "    np.savez(f,array1,array2,npzmulti['array1'],npzmulti['array2'],npzmulti['array3'],npyone,txtfile,csvfile,gzfile,npytest,outfile,txtfile1)"
   ]
  },
  {
   "cell_type": "code",
   "execution_count": 53,
   "metadata": {},
   "outputs": [
    {
     "name": "stdout",
     "output_type": "stream",
     "text": [
      "[1 2]\n"
     ]
    },
    {
     "data": {
      "text/plain": [
       "['arr_0',\n",
       " 'arr_1',\n",
       " 'arr_2',\n",
       " 'arr_3',\n",
       " 'arr_4',\n",
       " 'arr_5',\n",
       " 'arr_6',\n",
       " 'arr_7',\n",
       " 'arr_8',\n",
       " 'arr_9',\n",
       " 'arr_10',\n",
       " 'arr_11']"
      ]
     },
     "execution_count": 53,
     "metadata": {},
     "output_type": "execute_result"
    }
   ],
   "source": [
    "a = np.load('hw.npz')\n",
    "print(a['arr_9'])\n",
    "a.files"
   ]
  },
  {
   "cell_type": "code",
   "execution_count": 63,
   "metadata": {},
   "outputs": [
    {
     "name": "stdout",
     "output_type": "stream",
     "text": [
      "[ 0  1  2  3  4  5  6  7  8  9 10 11 12 13 14 15 16 17 18 19 20 21 22 23\n",
      " 24 25 26 27 28 29]\n",
      "[2 3 5]\n",
      "[0 1 2 3 4 5 6 7 8 9]\n",
      "[1 2 3]\n",
      "[0.5788873  0.69082947 0.04922545 0.86517602 0.29889969 0.55285575\n",
      " 0.69389689 0.49183867 0.8308363  0.06454569]\n",
      "[1 2]\n",
      "[(1., 2., 3.) (4., 5., 6.) (7., 8., 9.)]\n",
      "[[0. 1. 2. 3. 4.]\n",
      " [5. 6. 7. 8. 9.]]\n",
      "[0. 1. 2. 3. 4.]\n",
      "[1 2]\n",
      "[0. 1. 2. 3. 4.]\n",
      "[(1, 2, 'Yes', '87%') (3, 4, 'No', '3%') (5, 6, 'Yes', '55%')]\n"
     ]
    }
   ],
   "source": [
    "print(a['arr_0'])\n",
    "print(a['arr_1'])\n",
    "print(a['arr_2'])\n",
    "print(a['arr_3'])\n",
    "print(a['arr_4'])\n",
    "print(a['arr_5'])\n",
    "print(a['arr_6'])\n",
    "print(a['arr_7'])\n",
    "print(a['arr_8'])\n",
    "print(a['arr_9'])\n",
    "print(a['arr_10'])\n",
    "print(a['arr_11'])"
   ]
  }
 ],
 "metadata": {
  "colab": {
   "collapsed_sections": [],
   "name": "作業Hong題目.ipynb",
   "provenance": []
  },
  "kernelspec": {
   "display_name": "Python 3",
   "language": "python",
   "name": "python3"
  },
  "language_info": {
   "codemirror_mode": {
    "name": "ipython",
    "version": 3
   },
   "file_extension": ".py",
   "mimetype": "text/x-python",
   "name": "python",
   "nbconvert_exporter": "python",
   "pygments_lexer": "ipython3",
   "version": "3.8.5"
  }
 },
 "nbformat": 4,
 "nbformat_minor": 1
}
